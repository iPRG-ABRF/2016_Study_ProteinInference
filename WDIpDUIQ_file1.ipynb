{
 "cells": [
  {
   "cell_type": "code",
   "execution_count": 1,
   "metadata": {
    "collapsed": true
   },
   "outputs": [],
   "source": [
    "import pandas as pd\n",
    "from pyteomics import fasta\n",
    "from os import listdir, path\n",
    "from collections import defaultdict\n",
    "import subprocess\n",
    "import shutil"
   ]
  },
  {
   "cell_type": "code",
   "execution_count": null,
   "metadata": {
    "collapsed": false
   },
   "outputs": [],
   "source": [
    "# Create decoy protein database using the pyteomics (https://pypi.python.org/pypi/pyteomics)\n",
    "fasta.write_decoy_db('/home/labxxx/iprg2016/fasta/iPRG2016.fasta', '/home/labxxx/iprg2016/fasta/iPRG2016_reverse.fasta', mode='reverse', prefix='DECOY_')"
   ]
  },
  {
   "cell_type": "code",
   "execution_count": null,
   "metadata": {
    "collapsed": false
   },
   "outputs": [],
   "source": [
    "# Convert raw files to mzml format using the Proteowizard (http://proteowizard.sourceforge.net/)\n",
    "subprocess.call(['wine', '/home/labxxx/pwiz/msconvert.exe', '/home/labxxx/iprg2016/raw_files/*.raw', '--mzML',\n",
    "                '-o', '/home/labxxx/iprg2016/mzml/', '--filter', '\"peakPicking true 1-\"'])"
   ]
  },
  {
   "cell_type": "code",
   "execution_count": 12,
   "metadata": {
    "collapsed": false
   },
   "outputs": [],
   "source": [
    "# %%capture\n",
    "# Convert mzml files to mgf format using the DeMix software (https://github.com/userbz/DeMix/)\n",
    "# Note, that here we used in-house version of DeMix where the step of recalibration MS/MS spectra using the MSGF+ was skipped. \n",
    "try:\n",
    "    del xml\n",
    "except:\n",
    "    pass\n",
    "\n",
    "mzmlfolder = '/home/labxxx/iprg2016/mzml/'\n",
    "mgfsfolder = '/home/labxxx/iprg2016/mgfs/'\n",
    "for z in listdir(mzmlfolder):\n",
    "    if z.endswith('.mzML'):\n",
    "        input_mzml = path.join(mzmlfolder, z)\n",
    "        %run '/home/labxxx/DeMix-master/run_demix_labxxx.py' $input_mzml\n",
    "        \n",
    "\n",
    "for z in listdir(mzmlfolder):\n",
    "    if z.endswith('.mgf'):\n",
    "        shutil.move(path.join(mzmlfolder, z), path.join(mgfsfolder, z.replace('.mzML.demix', '')))"
   ]
  },
  {
   "cell_type": "code",
   "execution_count": null,
   "metadata": {
    "collapsed": true
   },
   "outputs": [],
   "source": [
    "# ALTERNATIVE WAY to obtain mgf files using only msconvert without using the of DeMix Software.\n",
    "\n",
    "# Convert raw files to mgf format using the Proteowizard (http://proteowizard.sourceforge.net/)\n",
    "\n",
    "# subprocess.call(['wine', '/home/labxxx/pwiz/msconvert.exe', '/home/labxxx/iprg2016/raw_files/*.raw', '--mgf',\n",
    "#                 '-o', '/home/labxxx/iprg2016/mgfs/', '--filter', '\"MS2Deisotope\"'])"
   ]
  },
  {
   "cell_type": "code",
   "execution_count": 13,
   "metadata": {
    "collapsed": false
   },
   "outputs": [],
   "source": [
    "# Process mgf files using the X!Tandem search engine (http://www.thegpm.org/tandem/)\n",
    "# and pepxmltk converter (https://bitbucket.org/markmipt/pyteomics.pepxmltk)\n",
    "pepxmlfolder = '/home/labxxx/iprg2016/output/'\n",
    "mgfsfolder = '/home/labxxx/iprg2016/mgfs/'\n",
    "for z in listdir(mgfsfolder):\n",
    "    if z.endswith('.mgf'):\n",
    "        input_mgf = path.join(mgfsfolder, z)\n",
    "        !runtandem '--tandem2xml' '/usr/bin/pepxmltk.py' '/home/labxxx/iprg2016/params/tandem.xml' $pepxmlfolder '/home/labxxx/iprg2016/fasta/iPRG2016_reverse.fasta' $input_mgf"
   ]
  },
  {
   "cell_type": "code",
   "execution_count": 2,
   "metadata": {
    "collapsed": false
   },
   "outputs": [],
   "source": [
    "%%capture\n",
    "# Process output X!Tandem pep.xml files using the MPscore post-search algorithm (https://bitbucket.org/markmipt/mp-score)\n",
    "\n",
    "try:\n",
    "    del xml\n",
    "except:\n",
    "    pass\n",
    "\n",
    "pepxmlfolder = '/home/labxxx/iprg2016/output/'\n",
    "mgfsfolder = '/home/labxxx/iprg2016/mgfs/'\n",
    "for z in listdir(pepxmlfolder):\n",
    "    if z.endswith('.pep.xml'):\n",
    "        input_pepxml = path.join(pepxmlfolder, z)\n",
    "        input_mgf = path.join(mgfsfolder, z.replace('.pep.xml', '.mgf'))\n",
    "        %run '/home/labxxx/work/PycharmProjects/mp-score/MPscore.py' $input_pepxml $input_mgf '/home/labxxx/iprg2016/fasta/iPRG2016_reverse.fasta' '/home/labxxx/iprg2016/params/mpscore_prot.cfg'"
   ]
  },
  {
   "cell_type": "code",
   "execution_count": 5,
   "metadata": {
    "collapsed": false
   },
   "outputs": [],
   "source": [
    "# Process output proteins tables and write the txt file in iPRG-style\n",
    "\n",
    "all_files = ['A1', 'A2', 'A3',\n",
    "    'B1', 'B2', 'B3',\n",
    "    'C1', 'C2', 'C3',\n",
    "    'D1', 'D2', 'D3'\n",
    "]\n",
    "\n",
    "resultsdict = defaultdict(dict)\n",
    "for p in fasta.read('/home/labxxx/iprg2016/fasta/iPRG2016.fasta'):\n",
    "    if p[0].startswith('HPRR'):\n",
    "        resultsdict[p[0]] = dict()\n",
    "\n",
    "def sequence_is_unique(sequence, sequence_to_proteins):\n",
    "    return len(sequence_to_proteins[sequence]) == 1\n",
    "\n",
    "for fn in all_files:\n",
    "    df1p = pd.read_table('/home/labxxx/iprg2016/output/%s_proteins.csv' % (fn, ))\n",
    "      \n",
    "    qmap = dict()\n",
    "    for qvalue, prot in df1p[['q-value', 'dbname']].values:\n",
    "        qmap[prot] = qvalue\n",
    "    \n",
    "    for k in resultsdict:\n",
    "        resultsdict[k][fn] = qmap.get(k, 1.0)\n",
    "\n",
    "outfile = open('/home/labxxx/iprg2016/labxxx_results.txt', 'w')\n",
    "outfile.write('\"FDR\"' + '\\t' + '\\t'.join('\"' + ii + '\"' for ii in all_files) + '\\n')\n",
    "for k, v in resultsdict.iteritems():\n",
    "    outfile.write('\"' + k + '\"' + '\\t' + '\\t'.join(str(v.get(ii, 1.0)) for ii in all_files) + '\\n')\n",
    "outfile.close()"
   ]
  },
  {
   "cell_type": "code",
   "execution_count": null,
   "metadata": {
    "collapsed": true
   },
   "outputs": [],
   "source": []
  }
 ],
 "metadata": {
  "kernelspec": {
   "display_name": "Python 2",
   "language": "python2",
   "name": "python2"
  },
  "language_info": {
   "codemirror_mode": {
    "name": "ipython",
    "version": 2
   },
   "file_extension": ".py",
   "mimetype": "text/x-python",
   "name": "python",
   "nbconvert_exporter": "python",
   "pygments_lexer": "ipython2",
   "version": "2.7.12"
  }
 },
 "nbformat": 4,
 "nbformat_minor": 1
}
